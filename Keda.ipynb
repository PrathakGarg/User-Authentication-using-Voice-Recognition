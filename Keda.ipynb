{
  "nbformat": 4,
  "nbformat_minor": 0,
  "metadata": {
    "colab": {
      "name": "Keda.ipynb",
      "provenance": [],
      "authorship_tag": "ABX9TyOuyVCDKiI4T3k0PYKXivw3",
      "include_colab_link": true
    },
    "kernelspec": {
      "name": "python3",
      "display_name": "Python 3"
    },
    "language_info": {
      "name": "python"
    }
  },
  "cells": [
    {
      "cell_type": "markdown",
      "metadata": {
        "id": "view-in-github",
        "colab_type": "text"
      },
      "source": [
        "<a href=\"https://colab.research.google.com/github/PrathakGarg/User-Authentication-using-Voice-Recognition/blob/master/Keda.ipynb\" target=\"_parent\"><img src=\"https://colab.research.google.com/assets/colab-badge.svg\" alt=\"Open In Colab\"/></a>"
      ]
    },
    {
      "cell_type": "code",
      "metadata": {
        "colab": {
          "base_uri": "https://localhost:8080/"
        },
        "id": "_RvEi4O4lcWn",
        "outputId": "249ee0d6-6bf9-460f-c0d3-807e26a74d19"
      },
      "source": [
        "!pip install keras-ocr"
      ],
      "execution_count": 2,
      "outputs": [
        {
          "output_type": "stream",
          "text": [
            "Requirement already satisfied: keras-ocr in /usr/local/lib/python3.7/dist-packages (0.8.7)\n",
            "Requirement already satisfied: imgaug in /usr/local/lib/python3.7/dist-packages (from keras-ocr) (0.2.9)\n",
            "Requirement already satisfied: pyclipper in /usr/local/lib/python3.7/dist-packages (from keras-ocr) (1.3.0)\n",
            "Requirement already satisfied: shapely in /usr/local/lib/python3.7/dist-packages (from keras-ocr) (1.7.1)\n",
            "Requirement already satisfied: tqdm in /usr/local/lib/python3.7/dist-packages (from keras-ocr) (4.41.1)\n",
            "Requirement already satisfied: essential-generators in /usr/local/lib/python3.7/dist-packages (from keras-ocr) (1.0)\n",
            "Requirement already satisfied: fonttools in /usr/local/lib/python3.7/dist-packages (from keras-ocr) (4.24.4)\n",
            "Requirement already satisfied: efficientnet==1.0.0 in /usr/local/lib/python3.7/dist-packages (from keras-ocr) (1.0.0)\n",
            "Requirement already satisfied: editdistance in /usr/local/lib/python3.7/dist-packages (from keras-ocr) (0.5.3)\n",
            "Requirement already satisfied: validators in /usr/local/lib/python3.7/dist-packages (from keras-ocr) (0.18.2)\n",
            "Requirement already satisfied: scipy in /usr/local/lib/python3.7/dist-packages (from imgaug->keras-ocr) (1.4.1)\n",
            "Requirement already satisfied: numpy>=1.15.0 in /usr/local/lib/python3.7/dist-packages (from imgaug->keras-ocr) (1.19.5)\n",
            "Requirement already satisfied: opencv-python in /usr/local/lib/python3.7/dist-packages (from imgaug->keras-ocr) (4.1.2.30)\n",
            "Requirement already satisfied: matplotlib in /usr/local/lib/python3.7/dist-packages (from imgaug->keras-ocr) (3.2.2)\n",
            "Requirement already satisfied: scikit-image>=0.11.0 in /usr/local/lib/python3.7/dist-packages (from imgaug->keras-ocr) (0.16.2)\n",
            "Requirement already satisfied: Pillow in /usr/local/lib/python3.7/dist-packages (from imgaug->keras-ocr) (7.1.2)\n",
            "Requirement already satisfied: imageio in /usr/local/lib/python3.7/dist-packages (from imgaug->keras-ocr) (2.4.1)\n",
            "Requirement already satisfied: six in /usr/local/lib/python3.7/dist-packages (from imgaug->keras-ocr) (1.15.0)\n",
            "Requirement already satisfied: keras-applications<=1.0.8,>=1.0.7 in /usr/local/lib/python3.7/dist-packages (from efficientnet==1.0.0->keras-ocr) (1.0.8)\n",
            "Requirement already satisfied: decorator>=3.4.0 in /usr/local/lib/python3.7/dist-packages (from validators->keras-ocr) (4.4.2)\n",
            "Requirement already satisfied: cycler>=0.10 in /usr/local/lib/python3.7/dist-packages (from matplotlib->imgaug->keras-ocr) (0.10.0)\n",
            "Requirement already satisfied: pyparsing!=2.0.4,!=2.1.2,!=2.1.6,>=2.0.1 in /usr/local/lib/python3.7/dist-packages (from matplotlib->imgaug->keras-ocr) (2.4.7)\n",
            "Requirement already satisfied: python-dateutil>=2.1 in /usr/local/lib/python3.7/dist-packages (from matplotlib->imgaug->keras-ocr) (2.8.1)\n",
            "Requirement already satisfied: kiwisolver>=1.0.1 in /usr/local/lib/python3.7/dist-packages (from matplotlib->imgaug->keras-ocr) (1.3.1)\n",
            "Requirement already satisfied: PyWavelets>=0.4.0 in /usr/local/lib/python3.7/dist-packages (from scikit-image>=0.11.0->imgaug->keras-ocr) (1.1.1)\n",
            "Requirement already satisfied: networkx>=2.0 in /usr/local/lib/python3.7/dist-packages (from scikit-image>=0.11.0->imgaug->keras-ocr) (2.5.1)\n",
            "Requirement already satisfied: h5py in /usr/local/lib/python3.7/dist-packages (from keras-applications<=1.0.8,>=1.0.7->efficientnet==1.0.0->keras-ocr) (3.1.0)\n",
            "Requirement already satisfied: cached-property; python_version < \"3.8\" in /usr/local/lib/python3.7/dist-packages (from h5py->keras-applications<=1.0.8,>=1.0.7->efficientnet==1.0.0->keras-ocr) (1.5.2)\n"
          ],
          "name": "stdout"
        }
      ]
    },
    {
      "cell_type": "code",
      "metadata": {
        "id": "Ta6xEp70lZcW"
      },
      "source": [
        "import matplotlib.pyplot as plt\n",
        "import keras_ocr"
      ],
      "execution_count": 3,
      "outputs": []
    },
    {
      "cell_type": "code",
      "metadata": {
        "colab": {
          "base_uri": "https://localhost:8080/"
        },
        "id": "Ha_gOMN8ll01",
        "outputId": "f89f57a7-6680-4bbe-cb45-7c71600e626d"
      },
      "source": [
        "pipeline = keras_ocr.pipeline.Pipeline()"
      ],
      "execution_count": 4,
      "outputs": [
        {
          "output_type": "stream",
          "text": [
            "Looking for /root/.keras-ocr/craft_mlt_25k.h5\n",
            "Downloading /root/.keras-ocr/craft_mlt_25k.h5\n",
            "WARNING:tensorflow:From /usr/local/lib/python3.7/dist-packages/tensorflow/python/ops/array_ops.py:5049: calling gather (from tensorflow.python.ops.array_ops) with validate_indices is deprecated and will be removed in a future version.\n",
            "Instructions for updating:\n",
            "The `validate_indices` argument has no effect. Indices are always validated on CPU and never validated on GPU.\n",
            "Looking for /root/.keras-ocr/crnn_kurapan.h5\n",
            "Downloading /root/.keras-ocr/crnn_kurapan.h5\n"
          ],
          "name": "stdout"
        }
      ]
    },
    {
      "cell_type": "code",
      "metadata": {
        "id": "4xjGGaJ9lofD"
      },
      "source": [
        "images = [\n",
        "    keras_ocr.tools.read(url) for url in [\n",
        "        # 'https://upload.wikimedia.org/wikipedia/commons/b/bd/Army_Reserves_Recruitment_Banner_MOD_45156284.jpg',\n",
        "        # 'https://upload.wikimedia.org/wikipedia/commons/e/e8/FseeG2QeLXo.jpg',\n",
        "        # 'https://upload.wikimedia.org/wikipedia/commons/b/b4/EUBanana-500x112.jpg'\n",
        "        'https://i.imgur.com/b0ihHdQ.png'\n",
        "    ]\n",
        "]"
      ],
      "execution_count": 5,
      "outputs": []
    },
    {
      "cell_type": "code",
      "metadata": {
        "id": "5c180gI_lqga"
      },
      "source": [
        "prediction_groups = pipeline.recognize(images)"
      ],
      "execution_count": 6,
      "outputs": []
    },
    {
      "cell_type": "code",
      "metadata": {
        "colab": {
          "base_uri": "https://localhost:8080/"
        },
        "id": "trsucC8Hlsyc",
        "outputId": "e907fb7d-1ee5-4426-c5a4-e833f41d79f0"
      },
      "source": [
        "print(prediction_groups)"
      ],
      "execution_count": 7,
      "outputs": [
        {
          "output_type": "stream",
          "text": [
            "[[('12', array([[ 86.,  33.],\n",
            "       [109.,  33.],\n",
            "       [109.,  50.],\n",
            "       [ 86.,  50.]], dtype=float32)), ('question', array([[31., 38.],\n",
            "       [84., 38.],\n",
            "       [84., 51.],\n",
            "       [31., 51.]], dtype=float32)), ('als', array([[210.3     ,  39.100002],\n",
            "       [238.50002 ,  48.500004],\n",
            "       [233.8     ,  62.600002],\n",
            "       [205.59999 ,  53.2     ]], dtype=float32)), ('a25', array([[239.,  41.],\n",
            "       [268.,  41.],\n",
            "       [268.,  59.],\n",
            "       [239.,  59.]], dtype=float32)), ('a3', array([[270.,  41.],\n",
            "       [290.,  41.],\n",
            "       [290.,  59.],\n",
            "       [270.,  59.]], dtype=float32)), ('be', array([[293.,  41.],\n",
            "       [312.,  41.],\n",
            "       [312.,  56.],\n",
            "       [293.,  56.]], dtype=float32)), ('al', array([[425.,  40.],\n",
            "       [451.,  40.],\n",
            "       [451.,  58.],\n",
            "       [425.,  58.]], dtype=float32)), ('abln', array([[460.,  41.],\n",
            "       [507.,  41.],\n",
            "       [507.,  58.],\n",
            "       [460.,  58.]], dtype=float32)), ('let', array([[181.,  42.],\n",
            "       [207.,  42.],\n",
            "       [207.,  56.],\n",
            "       [181.,  56.]], dtype=float32)), ('three', array([[314.,  42.],\n",
            "       [353.,  42.],\n",
            "       [353.,  56.],\n",
            "       [314.,  56.]], dtype=float32)), ('then', array([[389.,  42.],\n",
            "       [423.,  42.],\n",
            "       [423.,  56.],\n",
            "       [389.,  56.]], dtype=float32)), ('l', array([[452.,  42.],\n",
            "       [461.,  42.],\n",
            "       [461.,  54.],\n",
            "       [452.,  54.]], dtype=float32)), ('sets', array([[356.,  43.],\n",
            "       [388.,  43.],\n",
            "       [388.,  56.],\n",
            "       [356.,  56.]], dtype=float32)), ('not', array([[31., 65.],\n",
            "       [53., 65.],\n",
            "       [53., 76.],\n",
            "       [31., 76.]], dtype=float32)), ('a22', array([[217.,  65.],\n",
            "       [247.,  65.],\n",
            "       [247.,  83.],\n",
            "       [217.,  83.]], dtype=float32)), ('yet', array([[54., 66.],\n",
            "       [74., 66.],\n",
            "       [74., 79.],\n",
            "       [54., 79.]], dtype=float32)), ('a3', array([[181.,  66.],\n",
            "       [207.,  66.],\n",
            "       [207.,  83.],\n",
            "       [181.,  83.]], dtype=float32)), ('l', array([[208.,  67.],\n",
            "       [215.,  67.],\n",
            "       [215.,  78.],\n",
            "       [208.,  78.]], dtype=float32)), ('will', array([[250.,  66.],\n",
            "       [274.,  66.],\n",
            "       [274.,  80.],\n",
            "       [250.,  80.]], dtype=float32)), ('be', array([[276.,  66.],\n",
            "       [296.,  66.],\n",
            "       [296.,  80.],\n",
            "       [276.,  80.]], dtype=float32)), ('answered', array([[31.     , 83.99999],\n",
            "       [87.99999, 83.99999],\n",
            "       [87.99999, 94.99999],\n",
            "       [31.     , 94.99999]], dtype=float32)), ('marked', array([[ 31.     , 113.     ],\n",
            "       [ 74.99999, 113.     ],\n",
            "       [ 74.99999, 124.     ],\n",
            "       [ 31.     , 124.     ]], dtype=float32)), ('of', array([[ 98., 113.],\n",
            "       [112., 113.],\n",
            "       [112., 124.],\n",
            "       [ 98., 124.]], dtype=float32)), ('out', array([[ 77., 114.],\n",
            "       [ 98., 114.],\n",
            "       [ 98., 124.],\n",
            "       [ 77., 124.]], dtype=float32)), ('o', array([[189., 114.],\n",
            "       [206., 114.],\n",
            "       [206., 130.],\n",
            "       [189., 130.]], dtype=float32)), ('ain', array([[231.4154 , 113.67694],\n",
            "       [272.89233, 118.86156],\n",
            "       [270.83078, 135.35387],\n",
            "       [229.35387, 130.16925]], dtype=float32)), ('a3', array([[269., 115.],\n",
            "       [289., 115.],\n",
            "       [289., 131.],\n",
            "       [269., 131.]], dtype=float32)), ('a', array([[213., 117.],\n",
            "       [227., 117.],\n",
            "       [227., 129.],\n",
            "       [213., 129.]], dtype=float32)), ('o', array([[ 30., 132.],\n",
            "       [ 42., 132.],\n",
            "       [ 42., 143.],\n",
            "       [ 30., 143.]], dtype=float32)), ('25', array([[ 41., 132.],\n",
            "       [ 58., 132.],\n",
            "       [ 58., 144.],\n",
            "       [ 41., 144.]], dtype=float32)), ('flag', array([[ 48.27723 , 159.2277  ],\n",
            "       [ 76.19802 , 162.01979 ],\n",
            "       [ 74.821785, 175.78218 ],\n",
            "       [ 46.900993, 172.9901  ]], dtype=float32)), ('o', array([[190., 160.],\n",
            "       [206., 160.],\n",
            "       [206., 175.],\n",
            "       [190., 175.]], dtype=float32)), ('b', array([[213., 160.],\n",
            "       [229., 160.],\n",
            "       [229., 174.],\n",
            "       [213., 174.]], dtype=float32)), ('a2', array([[231., 160.],\n",
            "       [252., 160.],\n",
            "       [252., 174.],\n",
            "       [231., 174.]], dtype=float32)), ('na3', array([[251.64865, 157.89188],\n",
            "       [289.96344, 160.95706],\n",
            "       [288.717  , 176.53735],\n",
            "       [250.40222, 173.47217]], dtype=float32)), ('question', array([[ 30., 181.],\n",
            "       [ 81., 181.],\n",
            "       [ 81., 193.],\n",
            "       [ 30., 193.]], dtype=float32)), ('o', array([[190., 205.],\n",
            "       [207., 205.],\n",
            "       [207., 220.],\n",
            "       [190., 220.]], dtype=float32)), ('ca', array([[213., 207.],\n",
            "       [227., 207.],\n",
            "       [227., 218.],\n",
            "       [213., 218.]], dtype=float32)), ('p', array([[230., 208.],\n",
            "       [243., 208.],\n",
            "       [243., 221.],\n",
            "       [230., 221.]], dtype=float32)), ('previous', array([[ 36., 325.],\n",
            "       [101., 325.],\n",
            "       [101., 340.],\n",
            "       [ 36., 340.]], dtype=float32)), ('next', array([[468., 325.],\n",
            "       [503., 325.],\n",
            "       [503., 340.],\n",
            "       [468., 340.]], dtype=float32)), ('page', array([[103., 327.],\n",
            "       [141., 327.],\n",
            "       [141., 342.],\n",
            "       [103., 342.]], dtype=float32)), ('page', array([[505., 327.],\n",
            "       [543., 327.],\n",
            "       [543., 343.],\n",
            "       [505., 343.]], dtype=float32))]]\n"
          ],
          "name": "stdout"
        }
      ]
    },
    {
      "cell_type": "code",
      "metadata": {
        "colab": {
          "base_uri": "https://localhost:8080/",
          "height": 1000
        },
        "id": "AzJUxtVtlzhq",
        "outputId": "9641d7d2-0afb-49bb-b87f-6944057e309e"
      },
      "source": [
        "fig, axs = plt.subplots(nrows=len(images), figsize=(20, 20), squeeze=False)"
      ],
      "execution_count": 8,
      "outputs": [
        {
          "output_type": "display_data",
          "data": {
            "image/png": "[encoded data removed]",
            "text/plain": [
              "<Figure size 1440x1440 with 1 Axes>"
            ]
          },
          "metadata": {
            "tags": [],
            "needs_background": "light"
          }
        }
      ]
    },
    {
      "cell_type": "code",
      "metadata": {
        "id": "HAQG5-DKl2P5"
      },
      "source": [
        "for ax, image, predictions in zip(axs[0], images, prediction_groups):\n",
        "    keras_ocr.tools.drawAnnotations(image=image, predictions=predictions, ax=ax)"
      ],
      "execution_count": 12,
      "outputs": []
    }
  ]
}